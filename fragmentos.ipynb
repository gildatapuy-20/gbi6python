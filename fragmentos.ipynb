{
 "cells": [
  {
   "attachments": {},
   "cell_type": "markdown",
   "metadata": {},
   "source": [
    "TAREA: TC6_Funcion"
   ]
  },
  {
   "cell_type": "code",
   "execution_count": 1,
   "metadata": {},
   "outputs": [],
   "source": [
    "import restenz"
   ]
  },
  {
   "cell_type": "code",
   "execution_count": 2,
   "metadata": {},
   "outputs": [
    {
     "data": {
      "text/plain": [
       "[[('CGATGATGAATTC', 13),\n",
       "  ('GTACCCGAGCTGAATTC', 17),\n",
       "  ('AGCAGAATTC', 10),\n",
       "  ('AGCTGATCGATACCAGAATTC', 21),\n",
       "  ('CATA', 4)]]"
      ]
     },
     "execution_count": 2,
     "metadata": {},
     "output_type": "execute_result"
    }
   ],
   "source": [
    "#Tarea retorno de todos los fragmentos para ECORI\n",
    "seq = \"CGATGATGAATTCGTACCCGAGCTGAATTCAGCAGAATTCAGCTGATCGATACCAGAATTCCATA\"\n",
    "ecoRI = \"GAATTC\"\n",
    "restenz.ecor1(seq, ecoRI)"
   ]
  },
  {
   "cell_type": "code",
   "execution_count": 3,
   "metadata": {},
   "outputs": [
    {
     "data": {
      "text/plain": [
       "[[('CGATGATGAATTCGTACCCGAGCTGAATTCAGCAGAATTCAGCTGATCGATACCAGAATTCCATA', 65)]]"
      ]
     },
     "execution_count": 3,
     "metadata": {},
     "output_type": "execute_result"
    }
   ],
   "source": [
    "#Tarea retorno de todos los fragmentos paara HindIII\n",
    "seq = \"CGATGATGAATTCGTACCCGAGCTGAATTCAGCAGAATTCAGCTGATCGATACCAGAATTCCATA\"\n",
    "HindIII = \"AAGCTT\"\n",
    "restenz.ecor1(seq, HindIII)"
   ]
  },
  {
   "cell_type": "code",
   "execution_count": 4,
   "metadata": {},
   "outputs": [
    {
     "data": {
      "text/plain": [
       "[[('CGATGATGAATAAGCTT', 17),\n",
       "  ('TCGTACCCGAGAAGCTT', 17),\n",
       "  ('CTGAATTCAGAAGCTT', 16),\n",
       "  ('CAGAATTCAGCTGATCGAAAGCTT', 24),\n",
       "  ('TACCAGAATTCCATA', 15)]]"
      ]
     },
     "execution_count": 4,
     "metadata": {},
     "output_type": "execute_result"
    }
   ],
   "source": [
    "#Tarea retorno de todos los fragmentos para HindIII se añadió los sitios de corte para obtener los fragmentos\n",
    "#En lo anterior no se encontró fragmentos por eso se añadio los sitios\n",
    "seq = \"CGATGATGAATAAGCTTTCGTACCCGAGAAGCTTCTGAATTCAGAAGCTTCAGAATTCAGCTGATCGAAAGCTTTACCAGAATTCCATA\"\n",
    "HindIII = \"AAGCTT\"\n",
    "restenz.ecor1(seq, HindIII)"
   ]
  },
  {
   "cell_type": "code",
   "execution_count": 5,
   "metadata": {},
   "outputs": [
    {
     "data": {
      "text/plain": [
       "[[('CGATGATGAATTCGTACCCGAGCTGAATTCAGCAGAATTCAGCTGATCGATACCAGAATTCCATA', 65)]]"
      ]
     },
     "execution_count": 5,
     "metadata": {},
     "output_type": "execute_result"
    }
   ],
   "source": [
    "#Tarea retorno de todos los fragmentos para NotI\n",
    "seq = \"CGATGATGAATTCGTACCCGAGCTGAATTCAGCAGAATTCAGCTGATCGATACCAGAATTCCATA\"\n",
    "NotI = \"GCGGCCGC\"\n",
    "restenz.ecor1(seq, NotI)"
   ]
  },
  {
   "cell_type": "code",
   "execution_count": 6,
   "metadata": {},
   "outputs": [
    {
     "data": {
      "text/plain": [
       "[[('CGATGGCGGCCGC', 13),\n",
       "  ('ATGAATTCGCGGCCGC', 16),\n",
       "  ('GTACCCGAGCTGAATGCGGCCGC', 23),\n",
       "  ('TCAGCAGAATTCAGCGCGGCCGC', 23),\n",
       "  ('TGATCGATACCGCGGCCGC', 19),\n",
       "  ('AGAATTCCATA', 11)]]"
      ]
     },
     "execution_count": 6,
     "metadata": {},
     "output_type": "execute_result"
    }
   ],
   "source": [
    "#Tarea retorno de todos los fragmentos para NotI se añadió los sitios de corte para obtener los fragmentos\n",
    "#En lo anterior no se encontró fragmentos por eso se añadio los sitios\n",
    "seq = \"CGATGGCGGCCGCATGAATTCGCGGCCGCGTACCCGAGCTGAATGCGGCCGCTCAGCAGAATTCAGCGCGGCCGCTGATCGATACCGCGGCCGCAGAATTCCATA\"\n",
    "NotI = \"GCGGCCGC\"\n",
    "restenz.ecor1(seq, NotI)"
   ]
  }
 ],
 "metadata": {
  "kernelspec": {
   "display_name": "Python 3",
   "language": "python",
   "name": "python3"
  },
  "language_info": {
   "codemirror_mode": {
    "name": "ipython",
    "version": 3
   },
   "file_extension": ".py",
   "mimetype": "text/x-python",
   "name": "python",
   "nbconvert_exporter": "python",
   "pygments_lexer": "ipython3",
   "version": "3.10.8"
  },
  "orig_nbformat": 4
 },
 "nbformat": 4,
 "nbformat_minor": 2
}
