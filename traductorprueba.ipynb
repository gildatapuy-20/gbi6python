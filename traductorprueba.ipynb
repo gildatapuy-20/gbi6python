{
 "cells": [
  {
   "cell_type": "code",
   "execution_count": 2,
   "metadata": {},
   "outputs": [],
   "source": [
    "# importar el módulo que contiene a la función\n",
    "import traductor as trt"
   ]
  },
  {
   "cell_type": "code",
   "execution_count": 3,
   "metadata": {},
   "outputs": [],
   "source": [
    "# Diccionario de codones\n",
    "codon_dictionary = {\n",
    "    'TCA' : 'S', 'TCC' : 'S', 'TCG' : 'S', 'TCT' : 'S',\n",
    "    'TTC' : 'F',    # Phenylalanine\n",
    "    'TTT' : 'F',    # Phenylalanine\n",
    "    'TTA' : 'L',    # Leucine\n",
    "    'TTG' : 'L',    # Leucine\n",
    "    'TAC' : 'Y',    # Tyrosine\n",
    "    'TAT' : 'Y',    # Tyrosine\n",
    "    'TAA' : '_',    # Stop\n",
    "    'TAG' : '_',    # Stop\n",
    "    'TGC' : 'C',    # Cysteine\n",
    "    'TGT' : 'C',    # Cysteine\n",
    "    'TGA' : '_',    # Stop\n",
    "    'TGG' : 'W',    # Tryptophan\n",
    "    'CTA' : 'L',    # Leucine\n",
    "    'CTC' : 'L',    # Leucine\n",
    "    'CTG' : 'L',    # Leucine\n",
    "    'CTT' : 'L',    # Leucine\n",
    "    'CCA' : 'P',    # Proline\n",
    "    'CCC' : 'P',    # Proline\n",
    "    'CCG' : 'P',    # Proline\n",
    "    'CCT' : 'P',    # Proline\n",
    "    'CAC' : 'H',    # Histidine\n",
    "    'CAT' : 'H',    # Histidine\n",
    "    'CAA' : 'Q',    # Glutamine\n",
    "    'CAG' : 'Q',    # Glutamine\n",
    "    'CGA' : 'R',    # Arginine\n",
    "    'CGC' : 'R',    # Arginine\n",
    "    'CGG' : 'R',    # Arginine\n",
    "    'CGT' : 'R',    # Arginine\n",
    "    'ATA' : 'I',    # Isoleucine\n",
    "    'ATC' : 'I',    # Isoleucine\n",
    "    'ATT' : 'I',    # Isoleucine\n",
    "    'ATG' : 'M',    # Methionine\n",
    "    'ACA' : 'T',    # Threonine\n",
    "    'ACC' : 'T',    # Threonine\n",
    "    'ACG' : 'T',    # Threonine\n",
    "    'ACT' : 'T',    # Threonine\n",
    "    'AAC' : 'N',    # Asparagine\n",
    "    'AAT' : 'N',    # Asparagine\n",
    "    'AAA' : 'K',    # Lysine\n",
    "    'AAG' : 'K',    # Lysine\n",
    "    'AGC' : 'S',    # Serine\n",
    "    'AGT' : 'S',    # Serine\n",
    "    'AGA' : 'R',    # Arginine\n",
    "    'AGG' : 'R',    # Arginine\n",
    "    'GTA' : 'V',    # Valine\n",
    "    'GTC' : 'V',    # Valine\n",
    "    'GTG' : 'V',    # Valine\n",
    "    'GTT' : 'V',    # Valine\n",
    "    'GCA' : 'A',    # Alanine\n",
    "    'GCC' : 'A',    # Alanine\n",
    "    'GCG' : 'A',    # Alanine\n",
    "    'GCT' : 'A',    # Alanine\n",
    "    'GAC' : 'D',    # Aspartic Acid\n",
    "    'GAT' : 'D',    # Aspartic Acid\n",
    "    'GAA' : 'E',    # Glutamic Acid\n",
    "    'GAG' : 'E',    # Glutamic Acid\n",
    "    'GGA' : 'G',    # Glycine\n",
    "    'GGC' : 'G',    # Glycine\n",
    "    'GGG' : 'G',    # Glycine\n",
    "    'GGT' : 'G',    # Glycine\n",
    "    }"
   ]
  },
  {
   "cell_type": "code",
   "execution_count": 7,
   "metadata": {},
   "outputs": [
    {
     "ename": "TypeError",
     "evalue": "traductor() takes 1 positional argument but 2 were given",
     "output_type": "error",
     "traceback": [
      "\u001b[0;31m---------------------------------------------------------------------------\u001b[0m",
      "\u001b[0;31mTypeError\u001b[0m                                 Traceback (most recent call last)",
      "Cell \u001b[0;32mIn[7], line 3\u001b[0m\n\u001b[1;32m      1\u001b[0m \u001b[39m# usar la función\u001b[39;00m\n\u001b[1;32m      2\u001b[0m seq \u001b[39m=\u001b[39m \u001b[39m\"\u001b[39m\u001b[39mGACACTCGCTTCTGGAACGTCTGAGGTTATCAATAAGCTCCTAGTCCAGACGCCATGGGTCATTTCACAGA\u001b[39m\u001b[39m\"\u001b[39m\n\u001b[0;32m----> 3\u001b[0m trt\u001b[39m.\u001b[39;49mtraductor(seq, codon_dictionary)\n",
      "\u001b[0;31mTypeError\u001b[0m: traductor() takes 1 positional argument but 2 were given"
     ]
    }
   ],
   "source": [
    "# usar la función\n",
    "seq = \"GACACTCGCTTCTGGAACGTCTGAGGTTATCAATAAGCTCCTAGTCCAGACGCCATGGGTCATTTCACAGA\"\n",
    "trt.traductor(seq, codon_dictionary)"
   ]
  },
  {
   "cell_type": "code",
   "execution_count": 4,
   "metadata": {},
   "outputs": [
    {
     "data": {
      "text/plain": [
       "46.51"
      ]
     },
     "execution_count": 4,
     "metadata": {},
     "output_type": "execute_result"
    }
   ],
   "source": [
    "trt.gcp(seq)"
   ]
  },
  {
   "attachments": {},
   "cell_type": "markdown",
   "metadata": {},
   "source": [
    "TAREA: TC6_Funcion"
   ]
  },
  {
   "cell_type": "code",
   "execution_count": 1,
   "metadata": {},
   "outputs": [],
   "source": [
    "import restenz"
   ]
  },
  {
   "cell_type": "code",
   "execution_count": 2,
   "metadata": {},
   "outputs": [
    {
     "data": {
      "text/plain": [
       "[[('CGATGATGAATTC', 13),\n",
       "  ('GTACCCGAGCTGAATTC', 17),\n",
       "  ('AGCAGAATTC', 10),\n",
       "  ('AGCTGATCGATACCAGAATTC', 21),\n",
       "  ('CATA', 4)]]"
      ]
     },
     "execution_count": 2,
     "metadata": {},
     "output_type": "execute_result"
    }
   ],
   "source": [
    "#Tarea retorno de todos los fragmentos para ECORI\n",
    "seq = \"CGATGATGAATTCGTACCCGAGCTGAATTCAGCAGAATTCAGCTGATCGATACCAGAATTCCATA\"\n",
    "ecoRI = \"GAATTC\"\n",
    "restenz.ecor1(seq, ecoRI)"
   ]
  },
  {
   "cell_type": "code",
   "execution_count": 8,
   "metadata": {},
   "outputs": [
    {
     "data": {
      "text/plain": [
       "[[('CGATGATGAATTCGTACCCGAGCTGAATTCAGCAGAATTCAGCTGATCGATACCAGAATTCCATA', 65)]]"
      ]
     },
     "execution_count": 8,
     "metadata": {},
     "output_type": "execute_result"
    }
   ],
   "source": [
    "#Tarea retorno de todos los fragmentos paara HindIII\n",
    "seq = \"CGATGATGAATTCGTACCCGAGCTGAATTCAGCAGAATTCAGCTGATCGATACCAGAATTCCATA\"\n",
    "HindIII = \"AAGCTT\"\n",
    "restenz.ecor1(seq, HindIII)"
   ]
  },
  {
   "cell_type": "code",
   "execution_count": 6,
   "metadata": {},
   "outputs": [
    {
     "data": {
      "text/plain": [
       "[[('CGATGATGAATAAGCTT', 17),\n",
       "  ('TCGTACCCGAGAAGCTT', 17),\n",
       "  ('CTGAATTCAGAAGCTT', 16),\n",
       "  ('CAGAATTCAGCTGATCGAAAGCTT', 24),\n",
       "  ('TACCAGAATTCCATA', 15)]]"
      ]
     },
     "execution_count": 6,
     "metadata": {},
     "output_type": "execute_result"
    }
   ],
   "source": [
    "#Tarea retorno de todos los fragmentos para HindIII se añadió los sitios de corte para obtener los fragmentos\n",
    "#En lo anterior no se encontró fragmentos por eso se añadio los sitios\n",
    "seq = \"CGATGATGAATAAGCTTTCGTACCCGAGAAGCTTCTGAATTCAGAAGCTTCAGAATTCAGCTGATCGAAAGCTTTACCAGAATTCCATA\"\n",
    "HindIII = \"AAGCTT\"\n",
    "restenz.ecor1(seq, HindIII)"
   ]
  },
  {
   "cell_type": "code",
   "execution_count": 10,
   "metadata": {},
   "outputs": [
    {
     "data": {
      "text/plain": [
       "[[('CGATGATGAATTCGTACCCGAGCTGAATTCAGCAGAATTCAGCTGATCGATACCAGAATTCCATA', 65)]]"
      ]
     },
     "execution_count": 10,
     "metadata": {},
     "output_type": "execute_result"
    }
   ],
   "source": [
    "#Tarea retorno de todos los fragmentos para NotI\n",
    "seq = \"CGATGATGAATTCGTACCCGAGCTGAATTCAGCAGAATTCAGCTGATCGATACCAGAATTCCATA\"\n",
    "NotI = \"GCGGCCGC\"\n",
    "restenz.ecor1(seq, NotI)"
   ]
  },
  {
   "cell_type": "code",
   "execution_count": 7,
   "metadata": {},
   "outputs": [
    {
     "data": {
      "text/plain": [
       "[[('CGATGGCGGCCGC', 13),\n",
       "  ('ATGAATTCGCGGCCGC', 16),\n",
       "  ('GTACCCGAGCTGAATGCGGCCGC', 23),\n",
       "  ('TCAGCAGAATTCAGCGCGGCCGC', 23),\n",
       "  ('TGATCGATACCGCGGCCGC', 19),\n",
       "  ('AGAATTCCATA', 11)]]"
      ]
     },
     "execution_count": 7,
     "metadata": {},
     "output_type": "execute_result"
    }
   ],
   "source": [
    "#Tarea retorno de todos los fragmentos para NotI se añadió los sitios de corte para obtener los fragmentos\n",
    "#En lo anterior no se encontró fragmentos por eso se añadio los sitios\n",
    "seq = \"CGATGGCGGCCGCATGAATTCGCGGCCGCGTACCCGAGCTGAATGCGGCCGCTCAGCAGAATTCAGCGCGGCCGCTGATCGATACCGCGGCCGCAGAATTCCATA\"\n",
    "NotI = \"GCGGCCGC\"\n",
    "restenz.ecor1(seq, NotI)"
   ]
  }
 ],
 "metadata": {
  "kernelspec": {
   "display_name": "Python 3",
   "language": "python",
   "name": "python3"
  },
  "language_info": {
   "codemirror_mode": {
    "name": "ipython",
    "version": 3
   },
   "file_extension": ".py",
   "mimetype": "text/x-python",
   "name": "python",
   "nbconvert_exporter": "python",
   "pygments_lexer": "ipython3",
   "version": "3.10.8"
  },
  "orig_nbformat": 4
 },
 "nbformat": 4,
 "nbformat_minor": 2
}
